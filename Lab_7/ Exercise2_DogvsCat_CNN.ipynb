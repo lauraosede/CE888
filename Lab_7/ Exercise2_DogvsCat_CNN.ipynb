{
  "nbformat": 4,
  "nbformat_minor": 0,
  "metadata": {
    "colab": {
      "name": "Exercise2_DogvsCat_CNN.ipynb",
      "provenance": [],
      "toc_visible": true,
      "include_colab_link": true
    },
    "kernelspec": {
      "name": "python3",
      "display_name": "Python 3"
    },
    "accelerator": "GPU"
  },
  "cells": [
    {
      "cell_type": "markdown",
      "metadata": {
        "id": "view-in-github",
        "colab_type": "text"
      },
      "source": [
        "<a href=\"https://colab.research.google.com/github/lauraosede/CE888/blob/main/Lab_7/%20Exercise2_DogvsCat_CNN.ipynb\" target=\"_parent\"><img src=\"https://colab.research.google.com/assets/colab-badge.svg\" alt=\"Open In Colab\"/></a>"
      ]
    },
    {
      "cell_type": "markdown",
      "metadata": {
        "id": "qTh9DiKVslsJ"
      },
      "source": [
        "## Dogs vs. Cats \n",
        "\n",
        "In this competition, you'll write an algorithm to classify whether images contain either a dog or a cat.  This is easy for humans, dogs, and cats. Your computer will find it a bit more difficult.\n",
        "\n",
        "![alt text](https://miro.medium.com/max/3000/1*bhFifratH9DjKqMBTeQG5A.gif)\n",
        "\n",
        "Ref: https://medium.com/@thegrigorian/rolling-in-the-deep-cnn-c8d3f7108c8c"
      ]
    },
    {
      "cell_type": "markdown",
      "metadata": {
        "id": "RSBI-_mSSY1g"
      },
      "source": [
        "Get your API Key from Kaggle using following steps:\n",
        "1. Login to [Kaggle](https://www.kaggle.com/) or Register if you don't have account\n",
        "2. Open Dataset (https://www.kaggle.com/c/dogs-vs-cats/rules) and accept terms and condition. \n",
        "3. On the top right corner click on your Icon and go to accounts and press a button \"Create New API Token\". It will download a JSON file containing your username and key. \n",
        "4. Now, paste both below. \n"
      ]
    },
    {
      "cell_type": "code",
      "metadata": {
        "id": "YmXSOc0tZIGA",
        "colab": {
          "base_uri": "https://localhost:8080/"
        },
        "outputId": "07e924de-c541-4de1-846c-1d4f15591303"
      },
      "source": [
        "import os\n",
        "os.environ['KAGGLE_USERNAME'] = \"lauraosede\" # username from the json file\n",
        "os.environ['KAGGLE_KEY'] = \"7d2ff1d844dbe8e88a5721c6f2bacae8\" # key from the json file\n",
        "!kaggle competitions download -c dogs-vs-cats # api copied from kaggle (https://www.kaggle.com/c/dogs-vs-cats/data)"
      ],
      "execution_count": 1,
      "outputs": [
        {
          "output_type": "stream",
          "text": [
            "Warning: Looks like you're using an outdated API Version, please consider updating (server 1.5.12 / client 1.5.4)\n",
            "Downloading sampleSubmission.csv to /content\n",
            "  0% 0.00/86.8k [00:00<?, ?B/s]\n",
            "100% 86.8k/86.8k [00:00<00:00, 27.1MB/s]\n",
            "Downloading train.zip to /content\n",
            " 98% 533M/543M [00:06<00:00, 99.1MB/s]\n",
            "100% 543M/543M [00:06<00:00, 86.3MB/s]\n",
            "Downloading test1.zip to /content\n",
            " 98% 265M/271M [00:05<00:00, 42.6MB/s]\n",
            "100% 271M/271M [00:05<00:00, 52.3MB/s]\n"
          ],
          "name": "stdout"
        }
      ]
    },
    {
      "cell_type": "code",
      "metadata": {
        "id": "PiwIL8d1n7eS",
        "colab": {
          "base_uri": "https://localhost:8080/"
        },
        "outputId": "99fe489a-1a16-49e1-c813-ab0f62306b4b"
      },
      "source": [
        "# Unzip training data\n",
        "from zipfile import ZipFile\n",
        "file_name = \"/content/train.zip\"\n",
        "with ZipFile(file_name, 'r') as zip:\n",
        "  zip.extractall()\n",
        "  print('done')"
      ],
      "execution_count": 2,
      "outputs": [
        {
          "output_type": "stream",
          "text": [
            "done\n"
          ],
          "name": "stdout"
        }
      ]
    },
    {
      "cell_type": "code",
      "metadata": {
        "id": "sa2Bj5i7pPKV",
        "colab": {
          "base_uri": "https://localhost:8080/"
        },
        "outputId": "0c92bca4-9a2e-4414-b759-616f4482c570"
      },
      "source": [
        "# Get all the paths\n",
        "data_dir_list = os.listdir('/content/train')\n",
        "#print(data_dir_list)\n",
        "path, dirs, files = next(os.walk(\"/content/train\"))\n",
        "file_count = len(files)\n",
        "print(file_count)"
      ],
      "execution_count": 3,
      "outputs": [
        {
          "output_type": "stream",
          "text": [
            "25000\n"
          ],
          "name": "stdout"
        }
      ]
    },
    {
      "cell_type": "code",
      "metadata": {
        "id": "0ERlHkfHqpK8"
      },
      "source": [
        "# Make new base directory\n",
        "original_dataset_dir = '/content/train'\n",
        "base_dir = '/content/cats_and_dogs_small'\n",
        "os.mkdir(base_dir)"
      ],
      "execution_count": 4,
      "outputs": []
    },
    {
      "cell_type": "code",
      "metadata": {
        "id": "AANB1UJ6rQhM"
      },
      "source": [
        "train_dir = os.path.join(base_dir, 'train')\n",
        "os.mkdir(train_dir)\n",
        "\n",
        "validation_dir = os.path.join(base_dir, 'validation')\n",
        "os.mkdir(validation_dir)\n",
        "\n",
        "test_dir = os.path.join(base_dir, 'test')\n",
        "os.mkdir(test_dir)\n",
        "\n",
        "train_cats_dir = os.path.join(train_dir, 'cats')\n",
        "os.mkdir(train_cats_dir)\n",
        "\n",
        "train_dogs_dir = os.path.join(train_dir, 'dogs')\n",
        "os.mkdir(train_dogs_dir)\n",
        "\n",
        "validation_cats_dir = os.path.join(validation_dir, 'cats')\n",
        "os.mkdir(validation_cats_dir)\n",
        "\n",
        "validation_dogs_dir = os.path.join(validation_dir, 'dogs')\n",
        "os.mkdir(validation_dogs_dir)\n",
        "\n",
        "test_cats_dir = os.path.join(test_dir, 'cats')\n",
        "os.mkdir(test_cats_dir)\n",
        "\n",
        "test_dogs_dir = os.path.join(test_dir, 'dogs')\n",
        "os.mkdir(test_dogs_dir)"
      ],
      "execution_count": 5,
      "outputs": []
    },
    {
      "cell_type": "code",
      "metadata": {
        "id": "ULRgL9s9rV8T"
      },
      "source": [
        "import shutil\n",
        "fnames = ['cat.{}.jpg'.format(i) for i in range(1000)]\n",
        "for fname in fnames:\n",
        "    src = os.path.join(original_dataset_dir, fname)\n",
        "    dst = os.path.join(train_cats_dir, fname)\n",
        "    #print(src,dst)\n",
        "    shutil.copyfile(src, dst)\n",
        "    \n",
        "fnames = ['cat.{}.jpg'.format(i) for i in range(1000, 1500)]\n",
        "for fname in fnames:\n",
        "    src = os.path.join(original_dataset_dir, fname)\n",
        "    dst = os.path.join(validation_cats_dir, fname)\n",
        "    shutil.copyfile(src, dst)\n",
        "\n",
        "fnames = ['cat.{}.jpg'.format(i) for i in range(1500, 2000)]\n",
        "for fname in fnames:\n",
        "    src = os.path.join(original_dataset_dir, fname)\n",
        "    dst = os.path.join(test_cats_dir, fname)\n",
        "    shutil.copyfile(src, dst)\n",
        "    \n",
        "fnames = ['dog.{}.jpg'.format(i) for i in range(1000)]\n",
        "for fname in fnames:\n",
        "    src = os.path.join(original_dataset_dir, fname)\n",
        "    dst = os.path.join(train_dogs_dir, fname)\n",
        "    shutil.copyfile(src, dst)\n",
        "\n",
        "fnames = ['dog.{}.jpg'.format(i) for i in range(1000, 1500)]\n",
        "for fname in fnames:\n",
        "    src = os.path.join(original_dataset_dir, fname)\n",
        "    dst = os.path.join(validation_dogs_dir, fname)\n",
        "    shutil.copyfile(src, dst)\n",
        "\n",
        "fnames = ['dog.{}.jpg'.format(i) for i in range(1500, 2000)]\n",
        "for fname in fnames:\n",
        "    src = os.path.join(original_dataset_dir, fname)\n",
        "    dst = os.path.join(test_dogs_dir, fname)\n",
        "    shutil.copyfile(src, dst)"
      ],
      "execution_count": 6,
      "outputs": []
    },
    {
      "cell_type": "code",
      "metadata": {
        "id": "ul3XAbIyr7vC",
        "colab": {
          "base_uri": "https://localhost:8080/"
        },
        "outputId": "77494c55-3023-4a32-d0f4-c5bc3a4dea6b"
      },
      "source": [
        "print('total training cat images:', len(os.listdir(train_cats_dir)))\n",
        "print('total training dog images:', len(os.listdir(train_dogs_dir)))\n",
        "print('total validation cat images:', len(os.listdir(validation_cats_dir)))\n",
        "\n",
        "print('total validation dog images:', len(os.listdir(validation_dogs_dir)))\n",
        "print('total test cat images:', len(os.listdir(test_cats_dir)))\n",
        "print('total test dog images:', len(os.listdir(test_dogs_dir)))"
      ],
      "execution_count": 7,
      "outputs": [
        {
          "output_type": "stream",
          "text": [
            "total training cat images: 1000\n",
            "total training dog images: 1000\n",
            "total validation cat images: 500\n",
            "total validation dog images: 500\n",
            "total test cat images: 500\n",
            "total test dog images: 500\n"
          ],
          "name": "stdout"
        }
      ]
    },
    {
      "cell_type": "code",
      "metadata": {
        "id": "o9yTA21_r-ma",
        "colab": {
          "base_uri": "https://localhost:8080/"
        },
        "outputId": "47cb2965-c2fd-4b79-9fd2-865d1f3171f4"
      },
      "source": [
        "from keras import layers\n",
        "from keras import models\n",
        "\n",
        "model = models.Sequential()\n",
        "model.add(layers.Conv2D(32, (3, 3), activation='relu', input_shape=(150, 150, 3)))\n",
        "model.add(layers.MaxPooling2D((2, 2)))\n",
        "model.add(layers.Conv2D(64, (3, 3), activation='relu'))\n",
        "model.add(layers.MaxPooling2D((2, 2)))\n",
        "model.add(layers.Conv2D(128, (3, 3), activation='relu'))\n",
        "model.add(layers.MaxPooling2D((2, 2)))\n",
        "model.add(layers.Conv2D(128, (3, 3), activation='relu'))\n",
        "model.add(layers.MaxPooling2D((2, 2)))\n",
        "model.add(layers.Flatten())\n",
        "model.add(layers.Dense(512, activation='relu'))\n",
        "model.add(layers.Dense(1, activation='sigmoid'))\n",
        "model.summary()"
      ],
      "execution_count": 8,
      "outputs": [
        {
          "output_type": "stream",
          "text": [
            "Model: \"sequential\"\n",
            "_________________________________________________________________\n",
            "Layer (type)                 Output Shape              Param #   \n",
            "=================================================================\n",
            "conv2d (Conv2D)              (None, 148, 148, 32)      896       \n",
            "_________________________________________________________________\n",
            "max_pooling2d (MaxPooling2D) (None, 74, 74, 32)        0         \n",
            "_________________________________________________________________\n",
            "conv2d_1 (Conv2D)            (None, 72, 72, 64)        18496     \n",
            "_________________________________________________________________\n",
            "max_pooling2d_1 (MaxPooling2 (None, 36, 36, 64)        0         \n",
            "_________________________________________________________________\n",
            "conv2d_2 (Conv2D)            (None, 34, 34, 128)       73856     \n",
            "_________________________________________________________________\n",
            "max_pooling2d_2 (MaxPooling2 (None, 17, 17, 128)       0         \n",
            "_________________________________________________________________\n",
            "conv2d_3 (Conv2D)            (None, 15, 15, 128)       147584    \n",
            "_________________________________________________________________\n",
            "max_pooling2d_3 (MaxPooling2 (None, 7, 7, 128)         0         \n",
            "_________________________________________________________________\n",
            "flatten (Flatten)            (None, 6272)              0         \n",
            "_________________________________________________________________\n",
            "dense (Dense)                (None, 512)               3211776   \n",
            "_________________________________________________________________\n",
            "dense_1 (Dense)              (None, 1)                 513       \n",
            "=================================================================\n",
            "Total params: 3,453,121\n",
            "Trainable params: 3,453,121\n",
            "Non-trainable params: 0\n",
            "_________________________________________________________________\n"
          ],
          "name": "stdout"
        }
      ]
    },
    {
      "cell_type": "code",
      "metadata": {
        "id": "2mG8wekxsBVS"
      },
      "source": [
        "from keras import optimizers\n",
        "model.compile(loss='binary_crossentropy', \n",
        "              optimizer=optimizers.RMSprop(lr=1e-4),\n",
        "              metrics=['acc'])"
      ],
      "execution_count": 9,
      "outputs": []
    },
    {
      "cell_type": "markdown",
      "metadata": {
        "id": "7zS4Klm8qWp6"
      },
      "source": [
        "## Using ImageDataGenerator to read images from directories\n",
        "As you know by now, data should be formatted into appropriately preprocessed floatingpoint tensors before being fed into the network. Currently, the data sits on a drive as JPEG files, so the steps for getting it into the network are roughly as follows:\n",
        "\n",
        "* Read the picture files.\n",
        "* Decode the JPEG content to RGB grids of pixels.\n",
        "* Convert these into floating-point tensors.\n",
        "* Rescale the pixel values (between 0 and 255) to the [0, 1] interval (as you know, neural networks prefer to deal with small input values).\n",
        "\n",
        "It may seem a bit daunting, but fortunately Keras has utilities to take care of these steps automatically. Keras has a module with image-processing helper tools, located at keras.preprocessing.image. In particular, it contains the class ImageDataGenerator,which lets you quickly set up Python generators that can automatically turn image files on disk into batches of preprocessed tensors."
      ]
    },
    {
      "cell_type": "code",
      "metadata": {
        "id": "XJ7XU7t9sEh6",
        "colab": {
          "base_uri": "https://localhost:8080/"
        },
        "outputId": "48d6b68d-7ab2-47fd-f1ac-4f56cf5431f9"
      },
      "source": [
        "from keras.preprocessing.image import ImageDataGenerator\n",
        "\n",
        "train_datagen = ImageDataGenerator(rescale=1./255)\n",
        "test_datagen = ImageDataGenerator(rescale=1./255)\n",
        "\n",
        "train_generator = train_datagen.flow_from_directory(train_dir,\n",
        "                                                    target_size=(150, 150), \n",
        "                                                    batch_size=20,\n",
        "                                                    class_mode='binary')\n",
        "\n",
        "validation_generator = test_datagen.flow_from_directory(validation_dir,\n",
        "                                                        target_size=(150, 150),\n",
        "                                                        batch_size=20,\n",
        "                                                        class_mode='binary')"
      ],
      "execution_count": 10,
      "outputs": [
        {
          "output_type": "stream",
          "text": [
            "Found 2000 images belonging to 2 classes.\n",
            "Found 1000 images belonging to 2 classes.\n"
          ],
          "name": "stdout"
        }
      ]
    },
    {
      "cell_type": "markdown",
      "metadata": {
        "id": "SEgLywySqm4u"
      },
      "source": [
        "Let’s fit the model to the data using the generator. You do so using the fit_generator method, the equivalent of fit for data generators like this one. It expects as its first argument a Python generator that will yield batches of inputs and targets indefinitely,like this one does. Because the data is being generated endlessly, the Keras model needs to know how many samples to draw from the generator before declaring anepoch over. This is the role of the `steps_per_epoch` argument: after having drawn `steps_per_epoch` batches from the generator—that is, after having run for `steps_per_epoch` gradient descent steps—the fitting process will go to the next epoch. In this case, batches are 20 samples, so it will take 100 batches until you see your target of 2,000 samples.\n",
        "\n",
        "When using fit_generator, you can pass a validation_data argument, much as with the fit method. It’s important to note that this argument is allowed to be a data generator, but it could also be a tuple of Numpy arrays. If you pass a generator as validation_data, then this generator is expected to yield batches of validation data endlessly; thus you should also specify the validation_steps argument, which tells the process how many batches to draw from the validation generator for evaluation."
      ]
    },
    {
      "cell_type": "code",
      "metadata": {
        "id": "yMyfPphJsJG6",
        "colab": {
          "base_uri": "https://localhost:8080/"
        },
        "outputId": "67db26bf-bcc8-4fcf-ec86-23582b6b092e"
      },
      "source": [
        "history = model.fit_generator(train_generator,\n",
        "                              steps_per_epoch=100,\n",
        "                              epochs=30,\n",
        "                              validation_data=validation_generator,\n",
        "                              validation_steps=10)"
      ],
      "execution_count": 11,
      "outputs": [
        {
          "output_type": "stream",
          "text": [
            "/usr/local/lib/python3.7/dist-packages/tensorflow/python/keras/engine/training.py:1844: UserWarning: `Model.fit_generator` is deprecated and will be removed in a future version. Please use `Model.fit`, which supports generators.\n",
            "  warnings.warn('`Model.fit_generator` is deprecated and '\n"
          ],
          "name": "stderr"
        },
        {
          "output_type": "stream",
          "text": [
            "Epoch 1/30\n",
            "100/100 [==============================] - 23s 66ms/step - loss: 0.7057 - acc: 0.5320 - val_loss: 0.6666 - val_acc: 0.5750\n",
            "Epoch 2/30\n",
            "100/100 [==============================] - 6s 62ms/step - loss: 0.6749 - acc: 0.5727 - val_loss: 0.6316 - val_acc: 0.6550\n",
            "Epoch 3/30\n",
            "100/100 [==============================] - 6s 62ms/step - loss: 0.6287 - acc: 0.6476 - val_loss: 0.6280 - val_acc: 0.6400\n",
            "Epoch 4/30\n",
            "100/100 [==============================] - 6s 62ms/step - loss: 0.5791 - acc: 0.6928 - val_loss: 0.5855 - val_acc: 0.6950\n",
            "Epoch 5/30\n",
            "100/100 [==============================] - 6s 61ms/step - loss: 0.5488 - acc: 0.7255 - val_loss: 0.6473 - val_acc: 0.6350\n",
            "Epoch 6/30\n",
            "100/100 [==============================] - 6s 62ms/step - loss: 0.5243 - acc: 0.7377 - val_loss: 0.5672 - val_acc: 0.6850\n",
            "Epoch 7/30\n",
            "100/100 [==============================] - 6s 62ms/step - loss: 0.5013 - acc: 0.7475 - val_loss: 0.6267 - val_acc: 0.6500\n",
            "Epoch 8/30\n",
            "100/100 [==============================] - 6s 63ms/step - loss: 0.4621 - acc: 0.7882 - val_loss: 0.5337 - val_acc: 0.7500\n",
            "Epoch 9/30\n",
            "100/100 [==============================] - 6s 63ms/step - loss: 0.4567 - acc: 0.7925 - val_loss: 0.6023 - val_acc: 0.6750\n",
            "Epoch 10/30\n",
            "100/100 [==============================] - 6s 61ms/step - loss: 0.4265 - acc: 0.8088 - val_loss: 0.5957 - val_acc: 0.7100\n",
            "Epoch 11/30\n",
            "100/100 [==============================] - 6s 62ms/step - loss: 0.3880 - acc: 0.8293 - val_loss: 0.5271 - val_acc: 0.7100\n",
            "Epoch 12/30\n",
            "100/100 [==============================] - 6s 63ms/step - loss: 0.3600 - acc: 0.8444 - val_loss: 0.4909 - val_acc: 0.7550\n",
            "Epoch 13/30\n",
            "100/100 [==============================] - 6s 62ms/step - loss: 0.3403 - acc: 0.8438 - val_loss: 0.5450 - val_acc: 0.7350\n",
            "Epoch 14/30\n",
            "100/100 [==============================] - 6s 62ms/step - loss: 0.3188 - acc: 0.8636 - val_loss: 0.6652 - val_acc: 0.6700\n",
            "Epoch 15/30\n",
            "100/100 [==============================] - 6s 62ms/step - loss: 0.2986 - acc: 0.8667 - val_loss: 0.6207 - val_acc: 0.7450\n",
            "Epoch 16/30\n",
            "100/100 [==============================] - 6s 63ms/step - loss: 0.2573 - acc: 0.8960 - val_loss: 0.5626 - val_acc: 0.7250\n",
            "Epoch 17/30\n",
            "100/100 [==============================] - 6s 62ms/step - loss: 0.2533 - acc: 0.9042 - val_loss: 0.8005 - val_acc: 0.6850\n",
            "Epoch 18/30\n",
            "100/100 [==============================] - 6s 63ms/step - loss: 0.2366 - acc: 0.8977 - val_loss: 0.7474 - val_acc: 0.6700\n",
            "Epoch 19/30\n",
            "100/100 [==============================] - 6s 61ms/step - loss: 0.2186 - acc: 0.9118 - val_loss: 0.6339 - val_acc: 0.7100\n",
            "Epoch 20/30\n",
            "100/100 [==============================] - 6s 62ms/step - loss: 0.1939 - acc: 0.9365 - val_loss: 0.7339 - val_acc: 0.6950\n",
            "Epoch 21/30\n",
            "100/100 [==============================] - 6s 62ms/step - loss: 0.1885 - acc: 0.9237 - val_loss: 0.5349 - val_acc: 0.7950\n",
            "Epoch 22/30\n",
            "100/100 [==============================] - 6s 63ms/step - loss: 0.1584 - acc: 0.9414 - val_loss: 0.6665 - val_acc: 0.7550\n",
            "Epoch 23/30\n",
            "100/100 [==============================] - 6s 61ms/step - loss: 0.1421 - acc: 0.9522 - val_loss: 0.7075 - val_acc: 0.7200\n",
            "Epoch 24/30\n",
            "100/100 [==============================] - 6s 61ms/step - loss: 0.1205 - acc: 0.9615 - val_loss: 0.7916 - val_acc: 0.7300\n",
            "Epoch 25/30\n",
            "100/100 [==============================] - 6s 62ms/step - loss: 0.1056 - acc: 0.9707 - val_loss: 0.7834 - val_acc: 0.7450\n",
            "Epoch 26/30\n",
            "100/100 [==============================] - 6s 62ms/step - loss: 0.0947 - acc: 0.9765 - val_loss: 0.6976 - val_acc: 0.7700\n",
            "Epoch 27/30\n",
            "100/100 [==============================] - 6s 62ms/step - loss: 0.0702 - acc: 0.9803 - val_loss: 0.7717 - val_acc: 0.7600\n",
            "Epoch 28/30\n",
            "100/100 [==============================] - 6s 63ms/step - loss: 0.0699 - acc: 0.9791 - val_loss: 0.7269 - val_acc: 0.7350\n",
            "Epoch 29/30\n",
            "100/100 [==============================] - 6s 61ms/step - loss: 0.0556 - acc: 0.9880 - val_loss: 0.9410 - val_acc: 0.7400\n",
            "Epoch 30/30\n",
            "100/100 [==============================] - 6s 61ms/step - loss: 0.0468 - acc: 0.9905 - val_loss: 0.9244 - val_acc: 0.7400\n"
          ],
          "name": "stdout"
        }
      ]
    },
    {
      "cell_type": "code",
      "metadata": {
        "id": "MZaZ2HWZsNUi",
        "colab": {
          "base_uri": "https://localhost:8080/",
          "height": 545
        },
        "outputId": "909924b0-dd56-4c6e-eca9-ae4873599960"
      },
      "source": [
        "model.save('cats_and_dogs_small_1.h5')\n",
        "\n",
        "import matplotlib.pyplot as plt\n",
        "\n",
        "acc = history.history['acc']\n",
        "val_acc = history.history['val_acc']\n",
        "loss = history.history['loss']\n",
        "val_loss = history.history['val_loss']\n",
        "\n",
        "epochs = range(1, len(acc) + 1)\n",
        "\n",
        "plt.plot(epochs, acc, 'bo', label='Training acc')\n",
        "plt.plot(epochs, val_acc, 'b', label='Validation acc')\n",
        "plt.title('Training and validation accuracy')\n",
        "plt.legend()\n",
        "\n",
        "plt.figure()\n",
        "\n",
        "plt.plot(epochs, loss, 'bo', label='Training loss')\n",
        "plt.plot(epochs, val_loss, 'b', label='Validation loss')\n",
        "plt.title('Training and validation loss')\n",
        "plt.legend()\n",
        "\n",
        "plt.show()"
      ],
      "execution_count": 12,
      "outputs": [
        {
          "output_type": "display_data",
          "data": {
            "image/png": "[encoded data removed]",
            "text/plain": [
              "<Figure size 432x288 with 1 Axes>"
            ]
          },
          "metadata": {
            "tags": [],
            "needs_background": "light"
          }
        },
        {
          "output_type": "display_data",
          "data": {
            "image/png": "[encoded data removed]",
            "text/plain": [
              "<Figure size 432x288 with 1 Axes>"
            ]
          },
          "metadata": {
            "tags": [],
            "needs_background": "light"
          }
        }
      ]
    },
    {
      "cell_type": "markdown",
      "metadata": {
        "id": "XKZmXmBcq_8-"
      },
      "source": [
        "## Convolutional Networks with Dropout\n",
        "\n",
        "![alt text](https://camo.githubusercontent.com/ee6fa1073247cd2c3d241300caf110d7a7541bc5/68747470733a2f2f63646e2d696d616765732d312e6d656469756d2e636f6d2f6d61782f3830302f312a4972644a355067684439596f4f7956415137334d4a772e676966)\n",
        "\n",
        "Ref: https://github.com/mneha4/Training-Neural-Nets---Guidelines"
      ]
    },
    {
      "cell_type": "code",
      "metadata": {
        "id": "wu3cqeYQrDeN"
      },
      "source": [
        "model = models.Sequential()\n",
        "model.add(layers.Conv2D(32, (3, 3), activation='relu',\n",
        "input_shape=(150, 150, 3)))\n",
        "model.add(layers.MaxPooling2D((2, 2)))\n",
        "model.add(layers.Conv2D(64, (3, 3), activation='relu'))\n",
        "model.add(layers.MaxPooling2D((2, 2)))\n",
        "model.add(layers.Conv2D(128, (3, 3), activation='relu'))\n",
        "model.add(layers.MaxPooling2D((2, 2)))\n",
        "model.add(layers.Conv2D(128, (3, 3), activation='relu'))\n",
        "model.add(layers.MaxPooling2D((2, 2)))\n",
        "model.add(layers.Flatten())\n",
        "model.add(layers.Dropout(0.5))\n",
        "model.add(layers.Dense(512, activation='relu'))\n",
        "model.add(layers.Dense(1, activation='sigmoid'))\n",
        "\n",
        "model.compile(loss='binary_crossentropy',\n",
        "              optimizer=optimizers.RMSprop(lr=1e-4),\n",
        "              metrics=['acc'])"
      ],
      "execution_count": 86,
      "outputs": []
    },
    {
      "cell_type": "code",
      "metadata": {
        "id": "QSeLpvY0rH7F",
        "colab": {
          "base_uri": "https://localhost:8080/"
        },
        "outputId": "269e37ae-a737-4260-e3cc-cbcfe2bc6759"
      },
      "source": [
        "\n",
        "train_datagen = ImageDataGenerator(rescale=1./255,\n",
        "                                   rotation_range=40,\n",
        "                                   width_shift_range=0.2,\n",
        "                                   height_shift_range=0.2,\n",
        "                                   shear_range=0.2,\n",
        "                                   zoom_range=0.2,\n",
        "                                   horizontal_flip=True,)\n",
        "\n",
        "test_datagen = ImageDataGenerator(rescale=1./255)\n",
        "\n",
        "train_generator = train_datagen.flow_from_directory(train_dir,\n",
        "                                                    target_size=(150, 150),\n",
        "                                                    batch_size=15,\n",
        "                                                    class_mode='binary')\n",
        "\n",
        "validation_generator = test_datagen.flow_from_directory(validation_dir,\n",
        "                                                        target_size=(150, 150),\n",
        "                                                        batch_size=15,\n",
        "                                                        class_mode='binary')\n",
        "\n",
        "history = model.fit_generator(train_generator,\n",
        "                              steps_per_epoch=100,\n",
        "                              epochs=20,\n",
        "                              validation_data=validation_generator,\n",
        "                              validation_steps=50)"
      ],
      "execution_count": 87,
      "outputs": [
        {
          "output_type": "stream",
          "text": [
            "Found 2000 images belonging to 2 classes.\n",
            "Found 1000 images belonging to 2 classes.\n"
          ],
          "name": "stdout"
        },
        {
          "output_type": "stream",
          "text": [
            "/usr/local/lib/python3.7/dist-packages/tensorflow/python/keras/engine/training.py:1844: UserWarning: `Model.fit_generator` is deprecated and will be removed in a future version. Please use `Model.fit`, which supports generators.\n",
            "  warnings.warn('`Model.fit_generator` is deprecated and '\n"
          ],
          "name": "stderr"
        },
        {
          "output_type": "stream",
          "text": [
            "Epoch 1/20\n",
            "100/100 [==============================] - 13s 126ms/step - loss: 0.6918 - acc: 0.5506 - val_loss: 0.6872 - val_acc: 0.5160\n",
            "Epoch 2/20\n",
            "100/100 [==============================] - 12s 124ms/step - loss: 0.6926 - acc: 0.5252 - val_loss: 0.6832 - val_acc: 0.5187\n",
            "Epoch 3/20\n",
            "100/100 [==============================] - 12s 124ms/step - loss: 0.6852 - acc: 0.5606 - val_loss: 0.6765 - val_acc: 0.5747\n",
            "Epoch 4/20\n",
            "100/100 [==============================] - 12s 124ms/step - loss: 0.6827 - acc: 0.5728 - val_loss: 0.6470 - val_acc: 0.6107\n",
            "Epoch 5/20\n",
            "100/100 [==============================] - 12s 124ms/step - loss: 0.6495 - acc: 0.6365 - val_loss: 0.7915 - val_acc: 0.5027\n",
            "Epoch 6/20\n",
            "100/100 [==============================] - 12s 124ms/step - loss: 0.6636 - acc: 0.5972 - val_loss: 0.6742 - val_acc: 0.5880\n",
            "Epoch 7/20\n",
            "100/100 [==============================] - 12s 121ms/step - loss: 0.6326 - acc: 0.6345 - val_loss: 0.6395 - val_acc: 0.6053\n",
            "Epoch 8/20\n",
            "100/100 [==============================] - 13s 125ms/step - loss: 0.6267 - acc: 0.6502 - val_loss: 0.6738 - val_acc: 0.5973\n",
            "Epoch 9/20\n",
            "100/100 [==============================] - 12s 124ms/step - loss: 0.6128 - acc: 0.6638 - val_loss: 0.5774 - val_acc: 0.6867\n",
            "Epoch 10/20\n",
            "100/100 [==============================] - 12s 124ms/step - loss: 0.5975 - acc: 0.6845 - val_loss: 0.5792 - val_acc: 0.6920\n",
            "Epoch 11/20\n",
            "100/100 [==============================] - 13s 126ms/step - loss: 0.6230 - acc: 0.6542 - val_loss: 0.5788 - val_acc: 0.6733\n",
            "Epoch 12/20\n",
            "100/100 [==============================] - 12s 125ms/step - loss: 0.6085 - acc: 0.6695 - val_loss: 0.5857 - val_acc: 0.6813\n",
            "Epoch 13/20\n",
            "100/100 [==============================] - 12s 125ms/step - loss: 0.5944 - acc: 0.6896 - val_loss: 0.5573 - val_acc: 0.7027\n",
            "Epoch 14/20\n",
            "100/100 [==============================] - 12s 123ms/step - loss: 0.5879 - acc: 0.6848 - val_loss: 0.5724 - val_acc: 0.7093\n",
            "Epoch 15/20\n",
            "100/100 [==============================] - 12s 124ms/step - loss: 0.5880 - acc: 0.6878 - val_loss: 0.5577 - val_acc: 0.7040\n",
            "Epoch 16/20\n",
            "100/100 [==============================] - 13s 126ms/step - loss: 0.5737 - acc: 0.7208 - val_loss: 0.5733 - val_acc: 0.7053\n",
            "Epoch 17/20\n",
            "100/100 [==============================] - 12s 125ms/step - loss: 0.5875 - acc: 0.6795 - val_loss: 0.5738 - val_acc: 0.6933\n",
            "Epoch 18/20\n",
            "100/100 [==============================] - 12s 125ms/step - loss: 0.5634 - acc: 0.6984 - val_loss: 0.5786 - val_acc: 0.6987\n",
            "Epoch 19/20\n",
            "100/100 [==============================] - 12s 123ms/step - loss: 0.5456 - acc: 0.7128 - val_loss: 0.5389 - val_acc: 0.7187\n",
            "Epoch 20/20\n",
            "100/100 [==============================] - 12s 124ms/step - loss: 0.5757 - acc: 0.6995 - val_loss: 0.5395 - val_acc: 0.7280\n"
          ],
          "name": "stdout"
        }
      ]
    },
    {
      "cell_type": "markdown",
      "metadata": {
        "id": "H28CsXH-BIwl"
      },
      "source": [
        "# Task 2:\n",
        "\n",
        "We have used Dropout to enhance the performance of the CNN model. Can you please use whatever you like to further enhance the performance from `val_acc: 0.7506`? "
      ]
    },
    {
      "cell_type": "markdown",
      "metadata": {
        "id": "uNsDtaw0CuJ9"
      },
      "source": [
        "### Increasing the number of hidden layers and hyper-parameter tuning"
      ]
    },
    {
      "cell_type": "code",
      "metadata": {
        "id": "NFXt_vB3EJm3"
      },
      "source": [
        "from keras.layers import Embedding\n",
        "import keras"
      ],
      "execution_count": 15,
      "outputs": []
    },
    {
      "cell_type": "code",
      "metadata": {
        "id": "Gg9cqzluDGhd"
      },
      "source": [
        "model = models.Sequential()\n",
        "model.add(layers.Conv2D(32, (3, 3), activation='relu',\n",
        "input_shape=(150, 150, 3)))\n",
        "model.add(layers.MaxPooling2D((2, 2)))\n",
        "model.add(layers.Conv2D(64, (3, 3), activation='relu'))\n",
        "model.add(layers.MaxPooling2D((2, 2)))\n",
        "model.add(layers.Conv2D(128, (3, 3), activation='relu'))\n",
        "model.add(layers.MaxPooling2D((2, 2)))\n",
        "model.add(layers.Conv2D(128, (3, 3), activation='relu'))\n",
        "model.add(layers.MaxPooling2D((2, 2)))\n",
        "model.add(layers.Flatten())\n",
        "model.add(layers.Dropout(0.5))\n",
        "model.add(layers.Dense(512, input_dim = 10, activation='relu'))\n",
        "model.add(layers.Dense(60, activation='relu'))\n",
        "model.add(layers.Dense(30, activation='sigmoid'))\n",
        "model.add(layers.Dense(1, activation='sigmoid'))\n",
        "\n"
      ],
      "execution_count": 43,
      "outputs": []
    },
    {
      "cell_type": "code",
      "metadata": {
        "id": "UoW9_w0MXznG"
      },
      "source": [
        "lr_schedule = keras.optimizers.schedules.ExponentialDecay(\n",
        "    initial_learning_rate=1e-2,\n",
        "    decay_steps=1000,\n",
        "    decay_rate=0.2)\n",
        "\n",
        "opt = keras.optimizers.Adam(learning_rate=1e-2)\n",
        "\n",
        "model.compile(loss='binary_crossentropy',\n",
        "              optimizer=opt,\n",
        "              metrics=['acc'])"
      ],
      "execution_count": 44,
      "outputs": []
    },
    {
      "cell_type": "code",
      "metadata": {
        "id": "dF10Bk_xDMBf",
        "colab": {
          "base_uri": "https://localhost:8080/"
        },
        "outputId": "7d16ee43-9af0-4e64-e81e-090d111ccff2"
      },
      "source": [
        "\n",
        "train_datagen = ImageDataGenerator(rescale=1./255,\n",
        "                                   rotation_range=40,\n",
        "                                   width_shift_range=0.2,\n",
        "                                   height_shift_range=0.2,\n",
        "                                   shear_range=0.2,\n",
        "                                   zoom_range=0.2,\n",
        "                                   horizontal_flip=True,)\n",
        "\n",
        "test_datagen = ImageDataGenerator(rescale=1./255)\n",
        "\n",
        "train_generator = train_datagen.flow_from_directory(train_dir,\n",
        "                                                    target_size=(150, 150),\n",
        "                                                    batch_size=16,\n",
        "                                                    class_mode='binary')\n",
        "\n",
        "validation_generator = test_datagen.flow_from_directory(validation_dir,\n",
        "                                                        target_size=(150, 150),\n",
        "                                                        batch_size=16,\n",
        "                                                        class_mode='binary')\n"
      ],
      "execution_count": 45,
      "outputs": [
        {
          "output_type": "stream",
          "text": [
            "Found 2000 images belonging to 2 classes.\n",
            "Found 1000 images belonging to 2 classes.\n"
          ],
          "name": "stdout"
        }
      ]
    },
    {
      "cell_type": "code",
      "metadata": {
        "id": "QQ_bbCnDDPOW",
        "colab": {
          "base_uri": "https://localhost:8080/"
        },
        "outputId": "0e73b183-8862-46a9-a5a2-968bd49d55a1"
      },
      "source": [
        "history = model.fit_generator(train_generator,\n",
        "                              steps_per_epoch=100,\n",
        "                              epochs=4,\n",
        "                              validation_data=validation_generator,\n",
        "                              validation_steps=5)"
      ],
      "execution_count": 46,
      "outputs": [
        {
          "output_type": "stream",
          "text": [
            "/usr/local/lib/python3.7/dist-packages/tensorflow/python/keras/engine/training.py:1844: UserWarning: `Model.fit_generator` is deprecated and will be removed in a future version. Please use `Model.fit`, which supports generators.\n",
            "  warnings.warn('`Model.fit_generator` is deprecated and '\n"
          ],
          "name": "stderr"
        },
        {
          "output_type": "stream",
          "text": [
            "Epoch 1/4\n",
            "100/100 [==============================] - 12s 116ms/step - loss: 0.7259 - acc: 0.5068 - val_loss: 0.6925 - val_acc: 0.5500\n",
            "Epoch 2/4\n",
            "100/100 [==============================] - 11s 113ms/step - loss: 0.6975 - acc: 0.4920 - val_loss: 0.7154 - val_acc: 0.3875\n",
            "Epoch 3/4\n",
            "100/100 [==============================] - 11s 114ms/step - loss: 0.6984 - acc: 0.4931 - val_loss: 0.6966 - val_acc: 0.4500\n",
            "Epoch 4/4\n",
            "100/100 [==============================] - 11s 114ms/step - loss: 0.6967 - acc: 0.5083 - val_loss: 0.6775 - val_acc: 0.6125\n"
          ],
          "name": "stdout"
        }
      ]
    },
    {
      "cell_type": "markdown",
      "metadata": {
        "id": "5lC-TvR3Faz8"
      },
      "source": [
        "#### tuning"
      ]
    },
    {
      "cell_type": "code",
      "metadata": {
        "id": "sQ4Bl9J4Fa0U"
      },
      "source": [
        "from keras.layers import Embedding\n",
        "import keras"
      ],
      "execution_count": 47,
      "outputs": []
    },
    {
      "cell_type": "code",
      "metadata": {
        "id": "n755wXoxFa0V"
      },
      "source": [
        "model = models.Sequential()\n",
        "model.add(layers.Conv2D(32, (3, 3), activation='relu',\n",
        "input_shape=(150, 150, 3)))\n",
        "model.add(layers.MaxPooling2D((2, 2)))\n",
        "model.add(layers.Conv2D(64, (3, 3), activation='relu'))\n",
        "model.add(layers.MaxPooling2D((2, 2)))\n",
        "model.add(layers.Conv2D(128, (3, 3), activation='relu'))\n",
        "model.add(layers.MaxPooling2D((2, 2)))\n",
        "model.add(layers.Conv2D(128, (3, 3), activation='relu'))\n",
        "model.add(layers.MaxPooling2D((2, 2)))\n",
        "model.add(layers.Flatten())\n",
        "model.add(layers.Dropout(0.7))\n",
        "model.add(layers.Dense(512, input_dim = 10, activation='relu'))\n",
        "model.add(layers.Dense(60, activation='relu'))\n",
        "model.add(layers.Dense(30, activation='sigmoid'))\n",
        "model.add(layers.Dense(1, activation='sigmoid'))\n",
        "\n",
        "\n"
      ],
      "execution_count": 68,
      "outputs": []
    },
    {
      "cell_type": "code",
      "metadata": {
        "id": "pIZigb1eFa0X"
      },
      "source": [
        "lr_schedule = keras.optimizers.schedules.ExponentialDecay(\n",
        "    initial_learning_rate=1e-4,\n",
        "    decay_steps=500,\n",
        "    decay_rate=0.01)\n",
        "\n",
        "opt = keras.optimizers.Adam(learning_rate=lr_schedule)\n",
        "\n",
        "model.compile(loss='binary_crossentropy',\n",
        "              optimizer=opt,\n",
        "              metrics=['acc'])"
      ],
      "execution_count": 69,
      "outputs": []
    },
    {
      "cell_type": "code",
      "metadata": {
        "colab": {
          "base_uri": "https://localhost:8080/"
        },
        "id": "SfMpZxDqFa0X",
        "outputId": "0319d60f-57ef-46df-fc19-8f4352a20378"
      },
      "source": [
        "\n",
        "train_datagen = ImageDataGenerator(rescale=1./255,\n",
        "                                   rotation_range=40,\n",
        "                                   width_shift_range=0.2,\n",
        "                                   height_shift_range=0.2,\n",
        "                                   shear_range=0.2,\n",
        "                                   zoom_range=0.2,\n",
        "                                   horizontal_flip=True,)\n",
        "\n",
        "test_datagen = ImageDataGenerator(rescale=1./255)\n",
        "\n",
        "train_generator = train_datagen.flow_from_directory(train_dir,\n",
        "                                                    target_size=(150, 150),\n",
        "                                                    batch_size=16,\n",
        "                                                    class_mode='binary')\n",
        "\n",
        "validation_generator = test_datagen.flow_from_directory(validation_dir,\n",
        "                                                        target_size=(150, 150),\n",
        "                                                        batch_size=16,\n",
        "                                                        class_mode='binary')\n"
      ],
      "execution_count": 70,
      "outputs": [
        {
          "output_type": "stream",
          "text": [
            "Found 2000 images belonging to 2 classes.\n",
            "Found 1000 images belonging to 2 classes.\n"
          ],
          "name": "stdout"
        }
      ]
    },
    {
      "cell_type": "code",
      "metadata": {
        "colab": {
          "base_uri": "https://localhost:8080/"
        },
        "id": "Cbnm3tm7Fa0Z",
        "outputId": "25c8274b-0e7c-40bc-80d5-8abcdb0e460d"
      },
      "source": [
        "history = model.fit_generator(train_generator,\n",
        "                              steps_per_epoch=50,\n",
        "                              epochs=15,\n",
        "                              validation_data=validation_generator,\n",
        "                              validation_steps=10)"
      ],
      "execution_count": 72,
      "outputs": [
        {
          "output_type": "stream",
          "text": [
            "/usr/local/lib/python3.7/dist-packages/tensorflow/python/keras/engine/training.py:1844: UserWarning: `Model.fit_generator` is deprecated and will be removed in a future version. Please use `Model.fit`, which supports generators.\n",
            "  warnings.warn('`Model.fit_generator` is deprecated and '\n"
          ],
          "name": "stderr"
        },
        {
          "output_type": "stream",
          "text": [
            "Epoch 1/15\n",
            "50/50 [==============================] - 6s 124ms/step - loss: 0.6766 - acc: 0.6000 - val_loss: 0.6681 - val_acc: 0.6125\n",
            "Epoch 2/15\n",
            "50/50 [==============================] - 6s 121ms/step - loss: 0.6786 - acc: 0.5925 - val_loss: 0.6713 - val_acc: 0.6500\n",
            "Epoch 3/15\n",
            "50/50 [==============================] - 6s 122ms/step - loss: 0.6790 - acc: 0.6137 - val_loss: 0.6663 - val_acc: 0.6438\n",
            "Epoch 4/15\n",
            "50/50 [==============================] - 6s 121ms/step - loss: 0.6712 - acc: 0.6388 - val_loss: 0.6709 - val_acc: 0.6250\n",
            "Epoch 5/15\n",
            "50/50 [==============================] - 6s 121ms/step - loss: 0.6775 - acc: 0.6025 - val_loss: 0.6692 - val_acc: 0.5938\n",
            "Epoch 6/15\n",
            "50/50 [==============================] - 6s 121ms/step - loss: 0.6828 - acc: 0.5788 - val_loss: 0.6768 - val_acc: 0.5562\n",
            "Epoch 7/15\n",
            "50/50 [==============================] - 6s 124ms/step - loss: 0.6735 - acc: 0.6175 - val_loss: 0.6710 - val_acc: 0.5875\n",
            "Epoch 8/15\n",
            "50/50 [==============================] - 6s 123ms/step - loss: 0.6764 - acc: 0.6137 - val_loss: 0.6647 - val_acc: 0.5938\n",
            "Epoch 9/15\n",
            "50/50 [==============================] - 6s 122ms/step - loss: 0.6770 - acc: 0.6137 - val_loss: 0.6718 - val_acc: 0.6250\n",
            "Epoch 10/15\n",
            "50/50 [==============================] - 6s 123ms/step - loss: 0.6804 - acc: 0.5888 - val_loss: 0.6850 - val_acc: 0.5500\n",
            "Epoch 11/15\n",
            "50/50 [==============================] - 6s 122ms/step - loss: 0.6775 - acc: 0.6025 - val_loss: 0.6805 - val_acc: 0.5500\n",
            "Epoch 12/15\n",
            "50/50 [==============================] - 6s 124ms/step - loss: 0.6810 - acc: 0.5612 - val_loss: 0.6792 - val_acc: 0.5875\n",
            "Epoch 13/15\n",
            "50/50 [==============================] - 6s 121ms/step - loss: 0.6797 - acc: 0.5962 - val_loss: 0.6659 - val_acc: 0.6062\n",
            "Epoch 14/15\n",
            "50/50 [==============================] - 6s 121ms/step - loss: 0.6746 - acc: 0.6175 - val_loss: 0.6551 - val_acc: 0.6562\n",
            "Epoch 15/15\n",
            "50/50 [==============================] - 6s 122ms/step - loss: 0.6751 - acc: 0.6087 - val_loss: 0.6840 - val_acc: 0.5312\n"
          ],
          "name": "stdout"
        }
      ]
    },
    {
      "cell_type": "markdown",
      "metadata": {
        "id": "sn1z1xLoISak"
      },
      "source": [
        "### tuning"
      ]
    },
    {
      "cell_type": "code",
      "metadata": {
        "id": "tQiTRDZmISam"
      },
      "source": [
        "from keras.layers import Embedding\n",
        "import keras"
      ],
      "execution_count": null,
      "outputs": []
    },
    {
      "cell_type": "code",
      "metadata": {
        "id": "S7DOMrc6ISan"
      },
      "source": [
        "model = models.Sequential()\n",
        "model.add(layers.Conv2D(32, (3, 3), activation='relu',\n",
        "input_shape=(150, 150, 3)))\n",
        "model.add(layers.MaxPooling2D((2, 2)))\n",
        "model.add(layers.Conv2D(64, (3, 3), activation='relu'))\n",
        "model.add(layers.MaxPooling2D((2, 2)))\n",
        "model.add(layers.Conv2D(128, (3, 3), activation='relu'))\n",
        "model.add(layers.MaxPooling2D((2, 2)))\n",
        "model.add(layers.Conv2D(128, (3, 3), activation='relu'))\n",
        "model.add(layers.MaxPooling2D((2, 2)))\n",
        "model.add(layers.Flatten())\n",
        "model.add(layers.Dropout(0.5))\n",
        "model.add(layers.Dense(512, activation='relu'))\n",
        "model.add(layers.Dense(1, activation='sigmoid'))\n",
        "\n",
        "\n",
        "\n"
      ],
      "execution_count": 88,
      "outputs": []
    },
    {
      "cell_type": "code",
      "metadata": {
        "id": "RX0yokHgISap"
      },
      "source": [
        "model.compile(loss='binary_crossentropy',\n",
        "              optimizer=optimizers.RMSprop(lr=1e-5),\n",
        "              metrics=['acc'])"
      ],
      "execution_count": 96,
      "outputs": []
    },
    {
      "cell_type": "code",
      "metadata": {
        "colab": {
          "base_uri": "https://localhost:8080/"
        },
        "id": "6ojea7jVISaq",
        "outputId": "ed4a374e-371b-494b-b7e4-1b485f442def"
      },
      "source": [
        "train_datagen = ImageDataGenerator(rescale=1./255,\n",
        "                                   rotation_range=40,\n",
        "                                   width_shift_range=0.2,\n",
        "                                   height_shift_range=0.2,\n",
        "                                   shear_range=0.2,\n",
        "                                   zoom_range=0.2,\n",
        "                                   horizontal_flip=True,)\n",
        "\n",
        "test_datagen = ImageDataGenerator(rescale=1./255)\n",
        "\n",
        "train_generator = train_datagen.flow_from_directory(train_dir,\n",
        "                                                    target_size=(150, 150),\n",
        "                                                    batch_size=10,\n",
        "                                                    class_mode='binary')\n",
        "\n",
        "validation_generator = test_datagen.flow_from_directory(validation_dir,\n",
        "                                                        target_size=(150, 150),\n",
        "                                                        batch_size=10,\n",
        "                                                        class_mode='binary')\n"
      ],
      "execution_count": 97,
      "outputs": [
        {
          "output_type": "stream",
          "text": [
            "Found 2000 images belonging to 2 classes.\n",
            "Found 1000 images belonging to 2 classes.\n"
          ],
          "name": "stdout"
        }
      ]
    },
    {
      "cell_type": "code",
      "metadata": {
        "colab": {
          "base_uri": "https://localhost:8080/"
        },
        "id": "eZ8C99huISat",
        "outputId": "e3bf522a-012b-47d0-d41d-e656431663de"
      },
      "source": [
        "history = model.fit_generator(train_generator,\n",
        "                              steps_per_epoch=50,\n",
        "                              epochs=15,\n",
        "                              validation_data=validation_generator,\n",
        "                              validation_steps=90)"
      ],
      "execution_count": 98,
      "outputs": [
        {
          "output_type": "stream",
          "text": [
            "/usr/local/lib/python3.7/dist-packages/tensorflow/python/keras/engine/training.py:1844: UserWarning: `Model.fit_generator` is deprecated and will be removed in a future version. Please use `Model.fit`, which supports generators.\n",
            "  warnings.warn('`Model.fit_generator` is deprecated and '\n"
          ],
          "name": "stderr"
        },
        {
          "output_type": "stream",
          "text": [
            "Epoch 1/15\n",
            "50/50 [==============================] - 7s 123ms/step - loss: 0.5304 - acc: 0.7468 - val_loss: 0.5489 - val_acc: 0.7244\n",
            "Epoch 2/15\n",
            "50/50 [==============================] - 6s 124ms/step - loss: 0.5343 - acc: 0.7456 - val_loss: 0.5233 - val_acc: 0.7411\n",
            "Epoch 3/15\n",
            "50/50 [==============================] - 6s 118ms/step - loss: 0.5271 - acc: 0.7182 - val_loss: 0.5458 - val_acc: 0.7378\n",
            "Epoch 4/15\n",
            "50/50 [==============================] - 6s 116ms/step - loss: 0.5604 - acc: 0.7155 - val_loss: 0.5512 - val_acc: 0.7311\n",
            "Epoch 5/15\n",
            "50/50 [==============================] - 6s 116ms/step - loss: 0.5045 - acc: 0.7551 - val_loss: 0.5414 - val_acc: 0.7400\n",
            "Epoch 6/15\n",
            "50/50 [==============================] - 6s 120ms/step - loss: 0.5567 - acc: 0.7312 - val_loss: 0.5385 - val_acc: 0.7489\n",
            "Epoch 7/15\n",
            "50/50 [==============================] - 6s 123ms/step - loss: 0.4415 - acc: 0.8151 - val_loss: 0.5361 - val_acc: 0.7500\n",
            "Epoch 8/15\n",
            "50/50 [==============================] - 6s 123ms/step - loss: 0.5595 - acc: 0.7181 - val_loss: 0.5310 - val_acc: 0.7567\n",
            "Epoch 9/15\n",
            "50/50 [==============================] - 6s 120ms/step - loss: 0.5355 - acc: 0.7385 - val_loss: 0.5372 - val_acc: 0.7522\n",
            "Epoch 10/15\n",
            "50/50 [==============================] - 6s 119ms/step - loss: 0.4646 - acc: 0.7523 - val_loss: 0.5344 - val_acc: 0.7556\n",
            "Epoch 11/15\n",
            "50/50 [==============================] - 6s 119ms/step - loss: 0.6082 - acc: 0.7236 - val_loss: 0.5400 - val_acc: 0.7500\n",
            "Epoch 12/15\n",
            "50/50 [==============================] - 6s 120ms/step - loss: 0.5511 - acc: 0.7461 - val_loss: 0.5555 - val_acc: 0.7422\n",
            "Epoch 13/15\n",
            "50/50 [==============================] - 6s 122ms/step - loss: 0.5352 - acc: 0.7263 - val_loss: 0.5355 - val_acc: 0.7556\n",
            "Epoch 14/15\n",
            "50/50 [==============================] - 6s 120ms/step - loss: 0.5851 - acc: 0.6795 - val_loss: 0.5273 - val_acc: 0.7556\n",
            "Epoch 15/15\n",
            "50/50 [==============================] - 6s 119ms/step - loss: 0.4915 - acc: 0.8041 - val_loss: 0.5234 - val_acc: 0.7544\n"
          ],
          "name": "stdout"
        }
      ]
    },
    {
      "cell_type": "markdown",
      "metadata": {
        "id": "L9J5xqJEIrEt"
      },
      "source": [
        "We were able to enhance the validation accuracy by tuning hyperparameters(decresing accuracy, increasing validation steps, decreasing batch size and tuning epoch)"
      ]
    }
  ]
}
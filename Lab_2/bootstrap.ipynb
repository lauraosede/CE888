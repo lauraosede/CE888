{
  "nbformat": 4,
  "nbformat_minor": 0,
  "metadata": {
    "colab": {
      "name": "bootstrap.ipynb",
      "provenance": [],
      "collapsed_sections": [],
      "toc_visible": true,
      "include_colab_link": true
    },
    "kernelspec": {
      "display_name": "Python 3",
      "language": "python",
      "name": "python3"
    },
    "language_info": {
      "codemirror_mode": {
        "name": "ipython",
        "version": 3
      },
      "file_extension": ".py",
      "mimetype": "text/x-python",
      "name": "python",
      "nbconvert_exporter": "python",
      "pygments_lexer": "ipython3",
      "version": "3.7.6"
    },
    "pycharm": {
      "stem_cell": {
        "cell_type": "raw",
        "metadata": {
          "collapsed": false
        },
        "source": []
      }
    },
    "accelerator": "GPU"
  },
  "cells": [
    {
      "cell_type": "markdown",
      "metadata": {
        "id": "view-in-github",
        "colab_type": "text"
      },
      "source": [
        "<a href=\"https://colab.research.google.com/github/lauraosede/CE888/blob/main/Lab_2/bootstrap.ipynb\" target=\"_parent\"><img src=\"https://colab.research.google.com/assets/colab-badge.svg\" alt=\"Open In Colab\"/></a>"
      ]
    },
    {
      "cell_type": "markdown",
      "metadata": {
        "id": "nCi_99yMYIb1"
      },
      "source": [
        "In this notebook you'll create your own bootstrap function following the bootstrap algorithm (check the lecture notes!)"
      ]
    },
    {
      "cell_type": "markdown",
      "metadata": {
        "id": "1FpoajJPvXqw"
      },
      "source": [
        "# Imports"
      ]
    },
    {
      "cell_type": "code",
      "metadata": {
        "id": "LY5zujI2YC37",
        "pycharm": {
          "name": "#%%# Imports\n"
        }
      },
      "source": [
        "import matplotlib\n",
        "import pandas as pd\n",
        "import seaborn as sns\n",
        "import numpy as np\n",
        "import random"
      ],
      "execution_count": 1,
      "outputs": []
    },
    {
      "cell_type": "code",
      "metadata": {
        "id": "Eqkwj4SMY38t"
      },
      "source": [
        "# Load the data\n",
        "df = pd.read_csv('https://raw.githubusercontent.com/albanda/CE888/master/lab2%20-%20bootstrap/customers.csv')\n",
        "data = df.values.T[1]"
      ],
      "execution_count": 2,
      "outputs": []
    },
    {
      "cell_type": "code",
      "metadata": {
        "colab": {
          "base_uri": "https://localhost:8080/",
          "height": 204
        },
        "id": "c7kWrLaxUp02",
        "outputId": "f88fb7b6-4148-4ddb-9ee0-5933b0d4eb39"
      },
      "source": [
        "df.head()"
      ],
      "execution_count": 3,
      "outputs": [
        {
          "output_type": "execute_result",
          "data": {
            "text/html": [
              "<div>\n",
              "<style scoped>\n",
              "    .dataframe tbody tr th:only-of-type {\n",
              "        vertical-align: middle;\n",
              "    }\n",
              "\n",
              "    .dataframe tbody tr th {\n",
              "        vertical-align: top;\n",
              "    }\n",
              "\n",
              "    .dataframe thead th {\n",
              "        text-align: right;\n",
              "    }\n",
              "</style>\n",
              "<table border=\"1\" class=\"dataframe\">\n",
              "  <thead>\n",
              "    <tr style=\"text-align: right;\">\n",
              "      <th></th>\n",
              "      <th>Day</th>\n",
              "      <th>Millons of pounds in sales</th>\n",
              "    </tr>\n",
              "  </thead>\n",
              "  <tbody>\n",
              "    <tr>\n",
              "      <th>0</th>\n",
              "      <td>1</td>\n",
              "      <td>2.0</td>\n",
              "    </tr>\n",
              "    <tr>\n",
              "      <th>1</th>\n",
              "      <td>2</td>\n",
              "      <td>8.0</td>\n",
              "    </tr>\n",
              "    <tr>\n",
              "      <th>2</th>\n",
              "      <td>3</td>\n",
              "      <td>20.0</td>\n",
              "    </tr>\n",
              "    <tr>\n",
              "      <th>3</th>\n",
              "      <td>4</td>\n",
              "      <td>13.0</td>\n",
              "    </tr>\n",
              "    <tr>\n",
              "      <th>4</th>\n",
              "      <td>5</td>\n",
              "      <td>5.0</td>\n",
              "    </tr>\n",
              "  </tbody>\n",
              "</table>\n",
              "</div>"
            ],
            "text/plain": [
              "   Day   Millons of pounds in sales\n",
              "0    1                          2.0\n",
              "1    2                          8.0\n",
              "2    3                         20.0\n",
              "3    4                         13.0\n",
              "4    5                          5.0"
            ]
          },
          "metadata": {
            "tags": []
          },
          "execution_count": 3
        }
      ]
    },
    {
      "cell_type": "code",
      "metadata": {
        "colab": {
          "base_uri": "https://localhost:8080/"
        },
        "id": "DbV4QbN7UxYV",
        "outputId": "a46427bb-c2f4-4164-b5d9-33e72cef8ef7"
      },
      "source": [
        "print(data)"
      ],
      "execution_count": 4,
      "outputs": [
        {
          "output_type": "stream",
          "text": [
            "[ 2.  8. 20. 13.  5.  9. 10.  8. 22. 10.  2.  4.  7.  9.]\n"
          ],
          "name": "stdout"
        }
      ]
    },
    {
      "cell_type": "markdown",
      "metadata": {
        "id": "Ssm2HiN9i5dN"
      },
      "source": [
        "# Create bootstrap function\n"
      ]
    },
    {
      "cell_type": "code",
      "metadata": {
        "id": "Gxvc_bScYC4H",
        "pycharm": {
          "name": "#%%\n"
        }
      },
      "source": [
        "# Checking the notes from the lecture, create here your own bootstrap function:\n",
        "# 1. Sample from the input array x to create an array of samples of shape (n_bootstraps, sample_size)\n",
        "# Hint: Check the function random.choice() on Numpy\n",
        "def bootstrap_mean(x, sample_size, n_bootstraps):\n",
        "  # <---INSERT YOUR CODE HERE--->\n",
        "  # 2. Calculate and save the mean of the array (this is \"data_mean\" that is returned by the function)\n",
        "  data_mean = np.mean(x)\n",
        "  # 3. Calculate the mean from each bootstrap (i.e., row) and store it. # (This should be an array of n_bootstraps values)\n",
        "  bs_replicates = np.empty(n_bootstraps)\n",
        "  for i in range(n_bootstraps):\n",
        "    # Create a bootstrap sample\n",
        "    bs_sample = np.random.choice(x,size=len(x), replace = True, p = None )\n",
        "    sample_mean = np.mean(bs_sample)\n",
        "    # Get bootstrap replicate and append to bs_replicates\n",
        "    bs_replicates[i] = sample_mean\n",
        "    # 4. Calculate the lower and upper bounds for a 95% CI (hint: check the percentile function on Numpy)\n",
        "    CI = np.percentile(x, [5,95])\n",
        "    lower = CI[0]\n",
        "    upper = CI[1]\n",
        "    # 5. Return data_mean, and the lower and upper bounds of your interval\n",
        "  return data_mean, lower, upper\n",
        "\n",
        "\n",
        "\t\n"
      ],
      "execution_count": 5,
      "outputs": []
    },
    {
      "cell_type": "code",
      "metadata": {
        "id": "AN7sEOcMYC4P",
        "pycharm": {
          "name": "#%%\n"
        },
        "colab": {
          "base_uri": "https://localhost:8080/",
          "height": 675
        },
        "outputId": "d707f3f8-b8d9-4721-d0be-ccbf7e801a67"
      },
      "source": [
        "# Call your bootstrap function and plot the results\n",
        "\n",
        "boots = []\n",
        "for i in range(100, 50000, 1000):\n",
        "    boot = bootstrap_mean(data, data.shape[0], i)\n",
        "    boots.append([i, boot[0], \"mean\"])\n",
        "    boots.append([i, boot[1], \"lower\"])\n",
        "    boots.append([i, boot[2], \"upper\"])\n",
        "\n",
        "df_boot = pd.DataFrame(boots, columns=['Bootstrap Iterations', 'Mean', \"Value\"])\n",
        "sns_plot = sns.lmplot(df_boot.columns[0], df_boot.columns[1], data=df_boot, fit_reg=False, hue=\"Value\")\n",
        "\n",
        "sns_plot.axes[0, 0].set_ylim(0,)\n",
        "sns_plot.axes[0, 0].set_xlim(0, 100000)\n",
        "print(df_boot)"
      ],
      "execution_count": 6,
      "outputs": [
        {
          "output_type": "stream",
          "text": [
            "/usr/local/lib/python3.7/dist-packages/seaborn/_decorators.py:43: FutureWarning: Pass the following variables as keyword args: x, y. From version 0.12, the only valid positional argument will be `data`, and passing other arguments without an explicit keyword will result in an error or misinterpretation.\n",
            "  FutureWarning\n"
          ],
          "name": "stderr"
        },
        {
          "output_type": "stream",
          "text": [
            "     Bootstrap Iterations       Mean  Value\n",
            "0                     100   9.214286   mean\n",
            "1                     100   2.000000  lower\n",
            "2                     100  20.700000  upper\n",
            "3                    1100   9.214286   mean\n",
            "4                    1100   2.000000  lower\n",
            "..                    ...        ...    ...\n",
            "145                 48100   2.000000  lower\n",
            "146                 48100  20.700000  upper\n",
            "147                 49100   9.214286   mean\n",
            "148                 49100   2.000000  lower\n",
            "149                 49100  20.700000  upper\n",
            "\n",
            "[150 rows x 3 columns]\n"
          ],
          "name": "stdout"
        },
        {
          "output_type": "display_data",
          "data": {
            "image/png": "[encoded data removed]",
            "text/plain": [
              "<Figure size 425.125x360 with 1 Axes>"
            ]
          },
          "metadata": {
            "tags": [],
            "needs_background": "light"
          }
        }
      ]
    },
    {
      "cell_type": "markdown",
      "metadata": {
        "id": "MjtP4e2_YC4V"
      },
      "source": [
        "\n",
        "Now, modify the bootstrap function you created above so that you can pass your desired confidence interval as a parameter.\n",
        "\n"
      ]
    },
    {
      "cell_type": "code",
      "metadata": {
        "id": "3K9j0FuGYhHs"
      },
      "source": [
        "def bootstrap_mean_ci(sample, sample_size, n_bootstraps, ci):\n",
        "\t# <---INSERT YOUR CODE HERE--->\n",
        "  #calculating mean of the array\n",
        "  data_sum = np.mean(sample)\n",
        "  #caluclate the summary stat from each bootstrap and store it\n",
        "  bs_sum_stat = np.empty(n_bootstraps)\n",
        "  for i in range(n_bootstraps):\n",
        "    resample = np.random.choice(sample, size = sample_size, replace = True, p = None )\n",
        "    sample_sum = np.mean(resample)\n",
        "    # Get bootstrap replicate and append to bs_sum_stat\n",
        "    bs_sum_stat[i] = sample_sum\n",
        "    #calculate the lower and upper bounds for a confidence interval passed as parameter\n",
        "    confidence_interval = np.percentile(bs_sum_stat, [100-ci,ci])\n",
        "    lower = confidence_interval[0]\n",
        "    upper = confidence_interval[1]\n",
        "  return data_sum, lower, upper\n",
        "\n"
      ],
      "execution_count": 35,
      "outputs": []
    },
    {
      "cell_type": "code",
      "metadata": {
        "id": "uDnjq08GYl-C",
        "colab": {
          "base_uri": "https://localhost:8080/",
          "height": 454
        },
        "outputId": "c400a83f-08d0-41b9-fcd0-e24108cdb767"
      },
      "source": [
        "boots = []\n",
        "for i in range(100, 50000, 1000):\n",
        "    boot = bootstrap_mean_ci(data, data.shape[0], i, 80)\n",
        "    boots.append([i, boot[0], \"mean\"])\n",
        "    boots.append([i, boot[1], \"lower\"])\n",
        "    boots.append([i, boot[2], \"upper\"])\n",
        "\n",
        "df_boot = pd.DataFrame(boots, columns=['Boostrap Iterations', 'Mean', \"Value\"])\n",
        "sns_plot = sns.lmplot(df_boot.columns[0], df_boot.columns[1], data=df_boot, fit_reg=False, hue=\"Value\")\n",
        "\n",
        "sns_plot.axes[0, 0].set_ylim(0,)\n",
        "sns_plot.axes[0, 0].set_xlim(0, 50000)\n",
        "\n",
        "#sns_plot.savefig(\"bootstrap_confidence_80.pdf\", bbox_inches='tight')\n"
      ],
      "execution_count": 36,
      "outputs": [
        {
          "output_type": "stream",
          "text": [
            "/usr/local/lib/python3.7/dist-packages/seaborn/_decorators.py:43: FutureWarning: Pass the following variables as keyword args: x, y. From version 0.12, the only valid positional argument will be `data`, and passing other arguments without an explicit keyword will result in an error or misinterpretation.\n",
            "  FutureWarning\n"
          ],
          "name": "stderr"
        },
        {
          "output_type": "execute_result",
          "data": {
            "text/plain": [
              "(0.0, 50000.0)"
            ]
          },
          "metadata": {
            "tags": []
          },
          "execution_count": 36
        },
        {
          "output_type": "display_data",
          "data": {
            "image/png": "[encoded data removed]",
            "text/plain": [
              "<Figure size 425.125x360 with 1 Axes>"
            ]
          },
          "metadata": {
            "tags": [],
            "needs_background": "light"
          }
        }
      ]
    },
    {
      "cell_type": "markdown",
      "metadata": {
        "id": "qjNgXW6wdd7r"
      },
      "source": [
        "# Vehicles dataset\n",
        "\n",
        "Now let's work on a different dataset, which is stored in the vehicles.csv file.\n"
      ]
    },
    {
      "cell_type": "code",
      "metadata": {
        "id": "avWv4ipFdpka"
      },
      "source": [
        "# Load and visualise the vehicles dataset\n",
        "# To load the dataset: https://neptune.ai/blog/google-colab-dealing-with-files (check section \"Load individual files directly from GitHub\")\n",
        "# Note that the current and new fleets are in different columns and have different lengths, so bear this in mind when you're plotting.\n",
        "# You can create separate scatterplots for the two fleets, as you would with the histograms, \n",
        "# or plot them both in one plot (but not one against the other).\n",
        "# <---INSERT YOUR CODE HERE--->\n",
        "# Note: you can add more cells as needed to organise your code and your plots\n"
      ],
      "execution_count": null,
      "outputs": []
    },
    {
      "cell_type": "markdown",
      "metadata": {
        "id": "B5d0tXDpIEj8"
      },
      "source": [
        "## Compare the two fleets\n",
        "\n",
        "The business analysts come up a comparison algorithm that requires the upper and lower bounds for the mean in order to say which fleet is better.\n",
        "1. Calculate the mean of both samples.\n",
        "2. Using the bootstrap function that you created:\n",
        "    - Construct the 95% CI of the mean of the current fleet.\n",
        "    - Construct the 95% CI of the mean of the new fleet.\n",
        "    - Are they comparable? (i.e., is one better than the other?) -- you can do this with a permutation test (check the lecture notes!)"
      ]
    },
    {
      "cell_type": "code",
      "metadata": {
        "id": "po4mp6zRHC0m"
      },
      "source": [
        "# <---INSERT YOUR CODE HERE--->\n",
        "vehicle_df = pd.read_csv('https://raw.githubusercontent.com/albanda/CE888/master/lab2%20-%20bootstrap/vehicles.csv')\n"
      ],
      "execution_count": 37,
      "outputs": []
    },
    {
      "cell_type": "code",
      "metadata": {
        "colab": {
          "base_uri": "https://localhost:8080/",
          "height": 204
        },
        "id": "0emOLglOEfoa",
        "outputId": "65f783c5-8e24-46c1-bb00-2048b155c7d2"
      },
      "source": [
        "vehicle_df.head()"
      ],
      "execution_count": 38,
      "outputs": [
        {
          "output_type": "execute_result",
          "data": {
            "text/html": [
              "<div>\n",
              "<style scoped>\n",
              "    .dataframe tbody tr th:only-of-type {\n",
              "        vertical-align: middle;\n",
              "    }\n",
              "\n",
              "    .dataframe tbody tr th {\n",
              "        vertical-align: top;\n",
              "    }\n",
              "\n",
              "    .dataframe thead th {\n",
              "        text-align: right;\n",
              "    }\n",
              "</style>\n",
              "<table border=\"1\" class=\"dataframe\">\n",
              "  <thead>\n",
              "    <tr style=\"text-align: right;\">\n",
              "      <th></th>\n",
              "      <th>Current fleet</th>\n",
              "      <th>New Fleet</th>\n",
              "    </tr>\n",
              "  </thead>\n",
              "  <tbody>\n",
              "    <tr>\n",
              "      <th>0</th>\n",
              "      <td>18</td>\n",
              "      <td>24.0</td>\n",
              "    </tr>\n",
              "    <tr>\n",
              "      <th>1</th>\n",
              "      <td>15</td>\n",
              "      <td>27.0</td>\n",
              "    </tr>\n",
              "    <tr>\n",
              "      <th>2</th>\n",
              "      <td>18</td>\n",
              "      <td>27.0</td>\n",
              "    </tr>\n",
              "    <tr>\n",
              "      <th>3</th>\n",
              "      <td>16</td>\n",
              "      <td>25.0</td>\n",
              "    </tr>\n",
              "    <tr>\n",
              "      <th>4</th>\n",
              "      <td>17</td>\n",
              "      <td>31.0</td>\n",
              "    </tr>\n",
              "  </tbody>\n",
              "</table>\n",
              "</div>"
            ],
            "text/plain": [
              "   Current fleet  New Fleet\n",
              "0             18       24.0\n",
              "1             15       27.0\n",
              "2             18       27.0\n",
              "3             16       25.0\n",
              "4             17       31.0"
            ]
          },
          "metadata": {
            "tags": []
          },
          "execution_count": 38
        }
      ]
    },
    {
      "cell_type": "code",
      "metadata": {
        "colab": {
          "base_uri": "https://localhost:8080/"
        },
        "id": "J6KmGuXiF1BJ",
        "outputId": "1cdcd0bf-c158-499e-b035-21fc5f940c38"
      },
      "source": [
        "vehicle_df.info()"
      ],
      "execution_count": 39,
      "outputs": [
        {
          "output_type": "stream",
          "text": [
            "<class 'pandas.core.frame.DataFrame'>\n",
            "RangeIndex: 249 entries, 0 to 248\n",
            "Data columns (total 2 columns):\n",
            " #   Column         Non-Null Count  Dtype  \n",
            "---  ------         --------------  -----  \n",
            " 0   Current fleet  249 non-null    int64  \n",
            " 1   New Fleet      79 non-null     float64\n",
            "dtypes: float64(1), int64(1)\n",
            "memory usage: 4.0 KB\n"
          ],
          "name": "stdout"
        }
      ]
    },
    {
      "cell_type": "markdown",
      "metadata": {
        "id": "3fOI2tT-GBer"
      },
      "source": [
        "There are missing values in the dataset, so we will use imputation method\n"
      ]
    },
    {
      "cell_type": "code",
      "metadata": {
        "id": "QDUh8ctXGhAC"
      },
      "source": [
        "median = vehicle_df[\"New Fleet\"].median()\n",
        "vehicle_df[\"New Fleet\"].fillna(median, inplace=True)"
      ],
      "execution_count": 40,
      "outputs": []
    },
    {
      "cell_type": "code",
      "metadata": {
        "colab": {
          "base_uri": "https://localhost:8080/"
        },
        "id": "kQPFnPThFTy5",
        "outputId": "014f999f-af1f-49fe-d595-74de74d9335c"
      },
      "source": [
        "vehicle_df.info()"
      ],
      "execution_count": 41,
      "outputs": [
        {
          "output_type": "stream",
          "text": [
            "<class 'pandas.core.frame.DataFrame'>\n",
            "RangeIndex: 249 entries, 0 to 248\n",
            "Data columns (total 2 columns):\n",
            " #   Column         Non-Null Count  Dtype  \n",
            "---  ------         --------------  -----  \n",
            " 0   Current fleet  249 non-null    int64  \n",
            " 1   New Fleet      249 non-null    float64\n",
            "dtypes: float64(1), int64(1)\n",
            "memory usage: 4.0 KB\n"
          ],
          "name": "stdout"
        }
      ]
    },
    {
      "cell_type": "code",
      "metadata": {
        "id": "EYGHN03eEidZ"
      },
      "source": [
        "current_fleet = vehicle_df.values.T[0]\n",
        "new_fleet = vehicle_df.values.T[1]"
      ],
      "execution_count": 42,
      "outputs": []
    },
    {
      "cell_type": "code",
      "metadata": {
        "colab": {
          "base_uri": "https://localhost:8080/"
        },
        "id": "vpR1tm8kE8jQ",
        "outputId": "70af3383-738b-4e7a-9b57-29d878cd00b8"
      },
      "source": [
        "mean_current_fleet = np.mean(current_fleet)\n",
        "print(mean_current_fleet)"
      ],
      "execution_count": 43,
      "outputs": [
        {
          "output_type": "stream",
          "text": [
            "20.14457831325301\n"
          ],
          "name": "stdout"
        }
      ]
    },
    {
      "cell_type": "code",
      "metadata": {
        "colab": {
          "base_uri": "https://localhost:8080/"
        },
        "id": "Ex_D274pFIAx",
        "outputId": "84c8787e-3ede-48cb-9858-db903ed4878a"
      },
      "source": [
        "mean_new_fleet = np.mean(new_fleet)\n",
        "print(mean_new_fleet)"
      ],
      "execution_count": 44,
      "outputs": [
        {
          "output_type": "stream",
          "text": [
            "31.518072289156628\n"
          ],
          "name": "stdout"
        }
      ]
    },
    {
      "cell_type": "markdown",
      "metadata": {
        "id": "iqgRJBN_HHu5"
      },
      "source": [
        "95% confidence interval for the mean of the new fleet in the vehicles dataset using 10000 iterations "
      ]
    },
    {
      "cell_type": "code",
      "metadata": {
        "colab": {
          "base_uri": "https://localhost:8080/"
        },
        "id": "ttyfU5HEHD9i",
        "outputId": "8607b223-f789-40b2-df12-a015b0250936"
      },
      "source": [
        "bootstrap_mean_ci(new_fleet, len(new_fleet), 10000, 95)"
      ],
      "execution_count": 46,
      "outputs": [
        {
          "output_type": "execute_result",
          "data": {
            "text/plain": [
              "(31.518072289156628, 31.152610441767067, 31.88755020080321)"
            ]
          },
          "metadata": {
            "tags": []
          },
          "execution_count": 46
        }
      ]
    },
    {
      "cell_type": "markdown",
      "metadata": {
        "id": "4bQuE7xFk7yT"
      },
      "source": [
        "95% confidence interval for the standard deviation of the old fleet in the vehicles dataset using 10000 iterations"
      ]
    },
    {
      "cell_type": "code",
      "metadata": {
        "id": "o6S7bDoeHKYO"
      },
      "source": [
        "#function\n",
        "def bootstrap_std_ci(sample, sample_size, n_bootstraps, ci):\n",
        "\t# <---INSERT YOUR CODE HERE--->\n",
        "  #calculating std of the array\n",
        "  data_sum = np.std(sample)\n",
        "  #caluclate the summary stat from each bootstrap and store it\n",
        "  bs_sum_stat = np.empty(n_bootstraps)\n",
        "  # Create bootstrap replicates as much as size\n",
        "  for i in range(n_bootstraps):\n",
        "    resample = np.random.choice(sample, size = sample_size, replace = True, p = None )\n",
        "    sample_sum = np.std(resample)\n",
        "    # Get bootstrap replicate and append to bs_sum_stat\n",
        "    bs_sum_stat[i] = sample_sum\n",
        "    #calculate the lower and upper bounds for a confidence interval passed as parameter\n",
        "    confidence_interval = np.percentile(bs_sum_stat, [100-ci,ci])\n",
        "    lower = confidence_interval[0]\n",
        "    upper = confidence_interval[1]\n",
        "  return data_sum, lower, upper"
      ],
      "execution_count": 47,
      "outputs": []
    },
    {
      "cell_type": "code",
      "metadata": {
        "id": "L41DrWsXk83-",
        "colab": {
          "base_uri": "https://localhost:8080/"
        },
        "outputId": "48cf7605-9e41-4971-9259-190dd2e6b86e"
      },
      "source": [
        "bootstrap_std_ci(current_fleet, len(current_fleet), 10000, 95)"
      ],
      "execution_count": 48,
      "outputs": [
        {
          "output_type": "execute_result",
          "data": {
            "text/plain": [
              "(6.401805462179708, 5.906301877188859, 6.863250423970473)"
            ]
          },
          "metadata": {
            "tags": []
          },
          "execution_count": 48
        }
      ]
    },
    {
      "cell_type": "markdown",
      "metadata": {
        "id": "CZuDaatQLYsn"
      },
      "source": [
        "Are they comparable? (i.e., is one better than the other?) -- you can do this with a permutation test (check the lecture notes!)"
      ]
    },
    {
      "cell_type": "code",
      "metadata": {
        "id": "MkxvDZG4HC0n"
      },
      "source": [
        "# Create your own function for a permutation test here (you will need it for the lab quiz!):\n",
        "def permut_test(sample1, sample2, n_permutations):\n",
        "    \"\"\"\n",
        "    sample1: 1D array\n",
        "    sample2: 1D array (note that the size of the two arrays can be different)\n",
        "    n_permutations: number of permutations to calculate the p-value\n",
        "    \"\"\"\n",
        "    merged_data = np.concatenate((sample1, sample2), axis=None)\n",
        "    #randomly permutate concatenated data\n",
        "    count = 0\n",
        "    for perm in range(n_permutations):\n",
        "      permutated_data = np.random.permutation(merged_data)\n",
        "      #spliting permutated data set into two halfs\n",
        "      length = len(permutated_data)\n",
        "      sample1 = permutated_data[:int(length/2)]\n",
        "      sample2 = permutated_data[int(length/2):]\n",
        "      mean_old = np.mean(sample1)\n",
        "      mean_new = np.mean(sample2)\n",
        "      test = mean_old - mean_new\n",
        "      print(test)\n",
        "      if test > t_obs:\n",
        "        count = count +1\n",
        "        print(count)\n",
        "      #find p-value\n",
        "      #divide count by number of permutations\n",
        "      p_value = count/perm_number\n",
        "      return pvalue"
      ],
      "execution_count": 65,
      "outputs": []
    },
    {
      "cell_type": "markdown",
      "metadata": {
        "id": "3fRhFYNxWH6F"
      },
      "source": [
        "## hypothesis testing"
      ]
    },
    {
      "cell_type": "code",
      "metadata": {
        "id": "0YvivGmzZt5V"
      },
      "source": [
        "#getting the first obsereved value \n",
        "ob_mean_old = np.mean(sample_set_old)\n",
        "print(ob_mean_old)\n",
        "ob_mean_new = np.mean(sample_set)\n",
        "print(ob_mean_new)\n",
        "t_obs = ob_mean_new - ob_mean_old\n",
        "print(t_obs) "
      ],
      "execution_count": null,
      "outputs": []
    },
    {
      "cell_type": "markdown",
      "metadata": {
        "id": "ViB2RtFtdpw8"
      },
      "source": [
        "## voters section"
      ]
    },
    {
      "cell_type": "code",
      "metadata": {
        "id": "8kPOem1KMUiD"
      },
      "source": [
        "f = open(\"/content/voting_data.py\", \"r\")\n",
        "contents =f.read()"
      ],
      "execution_count": null,
      "outputs": []
    },
    {
      "cell_type": "code",
      "metadata": {
        "id": "ZVlB2HbNP07m"
      },
      "source": [
        "print(contents)"
      ],
      "execution_count": null,
      "outputs": []
    },
    {
      "cell_type": "code",
      "metadata": {
        "id": "tguSvpYgUSFx"
      },
      "source": [
        "dem_share_PA = [60.08, 40.64, 36.07, 41.21, 31.04, 43.78, 44.08, 46.85, 44.71, 46.15, 63.10, 52.20, 43.18, 40.24, 39.92, 47.87, 37.77, 40.11, 49.85, 48.61, 38.62, 54.25, 34.84, 47.75, 43.82, 55.97, 58.23, 42.97, 42.38, 36.11, 37.53, 42.65, 50.96, 47.43, 56.24, 45.60, 46.39, 35.22, 48.56, 32.97, 57.88, 36.05, 37.72, 50.36, 32.12, 41.55, 54.66, 57.81, 54.58, 32.88, 54.37, 40.45, 47.61, 60.49, 43.11, 27.32, 44.03, 33.56, 37.26, 54.64, 43.12, 25.34, 49.79, 83.56, 40.09, 60.81, 49.81]\n",
        "dem_share_OH = [56.94, 50.46, 65.99, 45.88, 42.23, 45.26, 57.01, 53.61, 59.10, 61.48, 43.43, 44.69, 54.59, 48.36, 45.89, 48.62, 43.92, 38.23, 28.79, 63.57, 38.07, 40.18, 43.05, 41.56, 42.49, 36.06, 52.76, 46.07, 39.43, 39.26, 47.47, 27.92, 38.01, 45.45, 29.07, 28.94, 51.28, 50.10, 39.84, 36.43, 35.71, 31.47, 47.01, 40.10, 48.76, 31.56, 39.86, 45.31, 35.47, 51.38, 46.33, 48.73, 41.77, 41.32, 48.46, 53.14, 34.01, 54.74, 40.67, 38.96, 46.29, 38.25, 6.80, 31.75, 46.33, 44.90, 33.57, 38.10, 39.67, 40.47, 49.44, 37.62, 36.71, 46.73, 42.20, 53.16, 52.40, 58.36, 68.02, 38.53, 34.58, 69.64, 60.50, 53.53, 36.54, 49.58, 41.97, 38.11]"
      ],
      "execution_count": 59,
      "outputs": []
    },
    {
      "cell_type": "markdown",
      "metadata": {
        "id": "P_FbkOQDZ6iS"
      },
      "source": [
        "No of values in PA"
      ]
    },
    {
      "cell_type": "code",
      "metadata": {
        "id": "P1cDkJnzcAYL",
        "colab": {
          "base_uri": "https://localhost:8080/"
        },
        "outputId": "0a63fd44-903c-48f8-b49c-a86f48492a0a"
      },
      "source": [
        "len(dem_share_PA)"
      ],
      "execution_count": 60,
      "outputs": [
        {
          "output_type": "execute_result",
          "data": {
            "text/plain": [
              "67"
            ]
          },
          "metadata": {
            "tags": []
          },
          "execution_count": 60
        }
      ]
    },
    {
      "cell_type": "markdown",
      "metadata": {
        "id": "obIbdP4ve88F"
      },
      "source": [
        "No of values in OH"
      ]
    },
    {
      "cell_type": "code",
      "metadata": {
        "id": "dHRJUMnne1Jd",
        "colab": {
          "base_uri": "https://localhost:8080/"
        },
        "outputId": "317b79d7-8ee1-4f8b-8a77-05c971f03cea"
      },
      "source": [
        "len(dem_share_OH )"
      ],
      "execution_count": 61,
      "outputs": [
        {
          "output_type": "execute_result",
          "data": {
            "text/plain": [
              "88"
            ]
          },
          "metadata": {
            "tags": []
          },
          "execution_count": 61
        }
      ]
    },
    {
      "cell_type": "markdown",
      "metadata": {
        "id": "mXuR6mbiaJHC"
      },
      "source": [
        "The 98% confidence intervals for the means of dem_share_OH using 100000 bootstraps is "
      ]
    },
    {
      "cell_type": "code",
      "metadata": {
        "id": "693lDaBAfGIk",
        "colab": {
          "base_uri": "https://localhost:8080/"
        },
        "outputId": "525246fe-2a39-440f-a476-89f05bc17597"
      },
      "source": [
        "bootstrap_mean_ci(dem_share_OH, len(dem_share_OH), 100000, 98)"
      ],
      "execution_count": 63,
      "outputs": [
        {
          "output_type": "stream",
          "text": [
            "/usr/local/lib/python3.7/dist-packages/numpy/lib/function_base.py:3968: RuntimeWarning: invalid value encountered in multiply\n",
            "  x2 = take(ap, indices_above, axis=axis) * weights_above\n",
            "/usr/local/lib/python3.7/dist-packages/numpy/lib/function_base.py:3967: RuntimeWarning: invalid value encountered in multiply\n",
            "  x1 = take(ap, indices_below, axis=axis) * weights_below\n"
          ],
          "name": "stderr"
        },
        {
          "output_type": "execute_result",
          "data": {
            "text/plain": [
              "(44.31818181818182, 42.16329090909091, 46.47318636363636)"
            ]
          },
          "metadata": {
            "tags": []
          },
          "execution_count": 63
        }
      ]
    },
    {
      "cell_type": "markdown",
      "metadata": {
        "id": "wiM2Tm1ofdLJ"
      },
      "source": [
        "The 98% confidence intervals for the means of dem_share_PA using 100000 bootstraps is "
      ]
    },
    {
      "cell_type": "code",
      "metadata": {
        "id": "auNHE85XffAE",
        "colab": {
          "base_uri": "https://localhost:8080/"
        },
        "outputId": "3f5e6c4f-5ec5-44dc-c191-e5164d078885"
      },
      "source": [
        "bootstrap_mean_ci(dem_share_PA, len(dem_share_PA), 100000, 98)"
      ],
      "execution_count": 64,
      "outputs": [
        {
          "output_type": "execute_result",
          "data": {
            "text/plain": [
              "(45.476417910447765, 43.09820597014925, 47.96552835820896)"
            ]
          },
          "metadata": {
            "tags": []
          },
          "execution_count": 64
        }
      ]
    },
    {
      "cell_type": "markdown",
      "metadata": {
        "id": "gTraWc9XiNYj"
      },
      "source": [
        "# Customer dataset"
      ]
    },
    {
      "cell_type": "code",
      "metadata": {
        "id": "_WyRTfl09eIl",
        "colab": {
          "base_uri": "https://localhost:8080/",
          "height": 204
        },
        "outputId": "24eb10c4-17cd-4817-ffc9-6a7ac97c0718"
      },
      "source": [
        "df_1 = pd.read_csv('https://raw.githubusercontent.com/albanda/CE888/master/lab2%20-%20bootstrap/customers.csv')\n",
        "df_1.head()"
      ],
      "execution_count": 50,
      "outputs": [
        {
          "output_type": "execute_result",
          "data": {
            "text/html": [
              "<div>\n",
              "<style scoped>\n",
              "    .dataframe tbody tr th:only-of-type {\n",
              "        vertical-align: middle;\n",
              "    }\n",
              "\n",
              "    .dataframe tbody tr th {\n",
              "        vertical-align: top;\n",
              "    }\n",
              "\n",
              "    .dataframe thead th {\n",
              "        text-align: right;\n",
              "    }\n",
              "</style>\n",
              "<table border=\"1\" class=\"dataframe\">\n",
              "  <thead>\n",
              "    <tr style=\"text-align: right;\">\n",
              "      <th></th>\n",
              "      <th>Day</th>\n",
              "      <th>Millons of pounds in sales</th>\n",
              "    </tr>\n",
              "  </thead>\n",
              "  <tbody>\n",
              "    <tr>\n",
              "      <th>0</th>\n",
              "      <td>1</td>\n",
              "      <td>2.0</td>\n",
              "    </tr>\n",
              "    <tr>\n",
              "      <th>1</th>\n",
              "      <td>2</td>\n",
              "      <td>8.0</td>\n",
              "    </tr>\n",
              "    <tr>\n",
              "      <th>2</th>\n",
              "      <td>3</td>\n",
              "      <td>20.0</td>\n",
              "    </tr>\n",
              "    <tr>\n",
              "      <th>3</th>\n",
              "      <td>4</td>\n",
              "      <td>13.0</td>\n",
              "    </tr>\n",
              "    <tr>\n",
              "      <th>4</th>\n",
              "      <td>5</td>\n",
              "      <td>5.0</td>\n",
              "    </tr>\n",
              "  </tbody>\n",
              "</table>\n",
              "</div>"
            ],
            "text/plain": [
              "   Day   Millons of pounds in sales\n",
              "0    1                          2.0\n",
              "1    2                          8.0\n",
              "2    3                         20.0\n",
              "3    4                         13.0\n",
              "4    5                          5.0"
            ]
          },
          "metadata": {
            "tags": []
          },
          "execution_count": 50
        }
      ]
    },
    {
      "cell_type": "code",
      "metadata": {
        "id": "DXMentCpdkWN",
        "colab": {
          "base_uri": "https://localhost:8080/"
        },
        "outputId": "89bcb5fe-ce3d-4bab-d220-3c0f4818262e"
      },
      "source": [
        "customer_df = df_1.values.T[1]\n",
        "print(customer_df)"
      ],
      "execution_count": 51,
      "outputs": [
        {
          "output_type": "stream",
          "text": [
            "[ 2.  8. 20. 13.  5.  9. 10.  8. 22. 10.  2.  4.  7.  9.]\n"
          ],
          "name": "stdout"
        }
      ]
    },
    {
      "cell_type": "code",
      "metadata": {
        "id": "FXuPtVnJFUFl"
      },
      "source": [
        "sample_size = len(customer_df)"
      ],
      "execution_count": 52,
      "outputs": []
    },
    {
      "cell_type": "markdown",
      "metadata": {
        "id": "ClEKGngsz2yC"
      },
      "source": [
        "The 80% confidence interval for the mean of the customers dataset using 10000 iterations is"
      ]
    },
    {
      "cell_type": "code",
      "metadata": {
        "id": "TkQ9D4a2qCsV",
        "colab": {
          "base_uri": "https://localhost:8080/"
        },
        "outputId": "f505e039-7d91-4a98-ff92-0f4026c84126"
      },
      "source": [
        "bootstrap_mean_ci(customer_df, sample_size, 10000, 80)\n"
      ],
      "execution_count": 53,
      "outputs": [
        {
          "output_type": "execute_result",
          "data": {
            "text/plain": [
              "(9.214285714285714, 7.857142857142857, 10.5)"
            ]
          },
          "metadata": {
            "tags": []
          },
          "execution_count": 53
        }
      ]
    },
    {
      "cell_type": "markdown",
      "metadata": {
        "id": "YSKZwc460s5T"
      },
      "source": [
        "The 85% confidence interval for the standard deviation of the customers dataset using 10000 iterations is"
      ]
    },
    {
      "cell_type": "code",
      "metadata": {
        "id": "RicZcf61oT9R",
        "colab": {
          "base_uri": "https://localhost:8080/"
        },
        "outputId": "a7339a62-319f-4cca-fb96-cecffd40ea47"
      },
      "source": [
        "bootstrap_std_ci(customer_df, len(customer_df), 10000, 85)"
      ],
      "execution_count": 55,
      "outputs": [
        {
          "output_type": "execute_result",
          "data": {
            "text/plain": [
              "(5.684296305594556, 4.172309104717209, 6.562493926139075)"
            ]
          },
          "metadata": {
            "tags": []
          },
          "execution_count": 55
        }
      ]
    },
    {
      "cell_type": "markdown",
      "metadata": {
        "id": "jLyYoQi50ESS"
      },
      "source": [
        "The 90% confidence interval for the standard deviation of the customers dataset using 10000 iterations is"
      ]
    },
    {
      "cell_type": "code",
      "metadata": {
        "id": "ULC4Oo_s25XU",
        "colab": {
          "base_uri": "https://localhost:8080/"
        },
        "outputId": "3501c433-441b-407f-9e9c-26c5b09b8874"
      },
      "source": [
        "bootstrap_std_ci(customer_df, len(customer_df), 10000, 90)"
      ],
      "execution_count": 56,
      "outputs": [
        {
          "output_type": "execute_result",
          "data": {
            "text/plain": [
              "(5.684296305594556, 3.614737408251427, 6.797733715987218)"
            ]
          },
          "metadata": {
            "tags": []
          },
          "execution_count": 56
        }
      ]
    }
  ]
}